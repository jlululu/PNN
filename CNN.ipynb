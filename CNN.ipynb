{
  "nbformat": 4,
  "nbformat_minor": 0,
  "metadata": {
    "colab": {
      "name": "CNN.ipynb",
      "provenance": [],
      "collapsed_sections": [],
      "authorship_tag": "ABX9TyOPe2cjgLEFNCUw3lAFS6yD",
      "include_colab_link": true
    },
    "kernelspec": {
      "name": "python3",
      "display_name": "Python 3"
    },
    "accelerator": "GPU"
  },
  "cells": [
    {
      "cell_type": "markdown",
      "metadata": {
        "id": "view-in-github",
        "colab_type": "text"
      },
      "source": [
        "<a href=\"https://colab.research.google.com/github/jlululu/PNN/blob/main/CNN.ipynb\" target=\"_parent\"><img src=\"https://colab.research.google.com/assets/colab-badge.svg\" alt=\"Open In Colab\"/></a>"
      ]
    },
    {
      "cell_type": "code",
      "metadata": {
        "id": "nCFkKXUlLtzM"
      },
      "source": [
        "import numpy as np\r\n",
        "from keras.datasets import mnist\r\n",
        "from keras.utils import to_categorical, plot_model\r\n",
        "from keras.models import Sequential, Model, load_model\r\n",
        "import matplotlib.pyplot as plt\r\n",
        "from keras.layers import Input, Dense, Conv2D, MaxPool2D, Flatten, Dropout, BatchNormalization"
      ],
      "execution_count": null,
      "outputs": []
    },
    {
      "cell_type": "markdown",
      "metadata": {
        "id": "JatFo2sKMiGw"
      },
      "source": [
        "Loading data"
      ]
    },
    {
      "cell_type": "code",
      "metadata": {
        "id": "gPENXOVUMgSX"
      },
      "source": [
        "(x_train,labels_train),(x_test,labels_test) = mnist.load_data()\r\n",
        "x_train = x_train.astype('float32')\r\n",
        "x_test = x_test.astype('float32')\r\n",
        "x_train /= 255\r\n",
        "x_test /= 255\r\n",
        "x_train = x_train.reshape(60000,28,28,1)\r\n",
        "x_test = x_test.reshape(10000,28,28,1)\r\n",
        "y_train = to_categorical(labels_train,10)\r\n",
        "y_test = to_categorical(labels_test,10)"
      ],
      "execution_count": null,
      "outputs": []
    },
    {
      "cell_type": "markdown",
      "metadata": {
        "id": "HrYngR8lNR47"
      },
      "source": [
        "Construct NN"
      ]
    },
    {
      "cell_type": "code",
      "metadata": {
        "id": "S_J2xBLENVq3"
      },
      "source": [
        "net = Sequential()\r\n",
        "net.add(Conv2D(32,(5,5),activation='relu',input_shape=(28,28,1)))\r\n",
        "net.add(BatchNormalization())\r\n",
        "net.add(Conv2D(64,(3,3),activation='relu'))\r\n",
        "net.add(MaxPool2D(pool_size=(2,2)))\r\n",
        "net.add(Flatten())\r\n",
        "net.add(Dense(256,activation='relu'))\r\n",
        "net.add(Dropout(0.5))\r\n",
        "net.add(Dense(10,activation='softmax'))"
      ],
      "execution_count": null,
      "outputs": []
    },
    {
      "cell_type": "markdown",
      "metadata": {
        "id": "HKyOOxYhOKAb"
      },
      "source": [
        "Training"
      ]
    },
    {
      "cell_type": "code",
      "metadata": {
        "colab": {
          "base_uri": "https://localhost:8080/",
          "height": 574
        },
        "id": "iJpoY4emOLk4",
        "outputId": "48680ae9-caec-4f6d-975f-2dd38f7d5389"
      },
      "source": [
        "net.compile(loss='categorical_crossentropy', optimizer='adam')\r\n",
        "history = net.fit(x_train, y_train, validation_data=(x_test, y_test), epochs=8, batch_size=211)\r\n",
        "plt.figure()\r\n",
        "plt.plot(history.history['loss'], label='training loss')\r\n",
        "plt.plot(history.history['val_loss'], label='validation loss')\r\n",
        "plt.xlabel('epochs')\r\n",
        "plt.ylabel('loss')\r\n",
        "plt.legend()\r\n",
        "labels_predicted = net.predict(x_test)\r\n",
        "outputs = net.predict(x_test)\r\n",
        "labels_predicted = np.argmax(outputs, axis=1)\r\n",
        "misclassified = sum(labels_predicted != labels_test)\r\n",
        "print('Percentage of missclassified = ',100*misclassified/labels_test.size)"
      ],
      "execution_count": null,
      "outputs": [
        {
          "output_type": "stream",
          "text": [
            "Epoch 1/8\n",
            "285/285 [==============================] - 4s 11ms/step - loss: 0.0348 - val_loss: 0.0286\n",
            "Epoch 2/8\n",
            "285/285 [==============================] - 3s 10ms/step - loss: 0.0262 - val_loss: 0.0261\n",
            "Epoch 3/8\n",
            "285/285 [==============================] - 3s 10ms/step - loss: 0.0251 - val_loss: 0.0298\n",
            "Epoch 4/8\n",
            "285/285 [==============================] - 3s 10ms/step - loss: 0.0205 - val_loss: 0.0308\n",
            "Epoch 5/8\n",
            "285/285 [==============================] - 3s 10ms/step - loss: 0.0214 - val_loss: 0.0308\n",
            "Epoch 6/8\n",
            "285/285 [==============================] - 3s 10ms/step - loss: 0.0151 - val_loss: 0.0307\n",
            "Epoch 7/8\n",
            "285/285 [==============================] - 3s 10ms/step - loss: 0.0168 - val_loss: 0.0295\n",
            "Epoch 8/8\n",
            "285/285 [==============================] - 3s 10ms/step - loss: 0.0139 - val_loss: 0.0278\n",
            "Percentage of missclassified =  0.64\n"
          ],
          "name": "stdout"
        },
        {
          "output_type": "display_data",
          "data": {
            "image/png": "[encoded data removed]",
            "text/plain": [
              "<Figure size 432x288 with 1 Axes>"
            ]
          },
          "metadata": {
            "tags": [],
            "needs_background": "light"
          }
        }
      ]
    }
  ]
}